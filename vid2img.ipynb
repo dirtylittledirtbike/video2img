{
 "cells": [
  {
   "cell_type": "code",
   "execution_count": 1,
   "metadata": {},
   "outputs": [
    {
     "name": "stdout",
     "output_type": "stream",
     "text": [
      "Creating...path_to/deep_vid/dataframe_0.jpg\n",
      "done\n"
     ]
    }
   ],
   "source": [
    "import cv2\n",
    "import numpy as np\n",
    "import os\n",
    "\n",
    "# Playing video from file\n",
    "cap = cv2.VideoCapture('britlong.mov')\n",
    "# path to deep_vid data folder\n",
    "path_to_folder = 'path_to/deep_vid/data'\n",
    "\n",
    "try:\n",
    "    if not os.path.exists(path_to_folder):\n",
    "        os.makedirs(path_to_folder)\n",
    "except OSError:\n",
    "    print ('Error: Creating directory of data')\n",
    "\n",
    "currentFrame = 0\n",
    "file_number = 0\n",
    "\n",
    "while True:\n",
    "    \n",
    "    ret, frame = cap.read()\n",
    "\n",
    "    # Saves image of the current frame in jpg file\n",
    "    # because deep dreaming images takes so long you may want to use anywhere from %3 - %8\n",
    "    # to avoid having to many frames\n",
    "    if currentFrame % 3 == 0:\n",
    "        name = path_to_folder + 'frame_' + str(file_number) + '.jpg'\n",
    "        print ('Creating...' + name)\n",
    "        cv2.imwrite(name, frame)\n",
    "        file_number += 1\n",
    "\n",
    "    # To stop duplicate images\n",
    "    currentFrame += 1\n",
    "    if not ret: break\n",
    "\n",
    "# When everything done, release the capture\n",
    "cap.release()\n",
    "cv2.destroyAllWindows()\n",
    "print(\"done\")\n"
   ]
  },
  {
   "cell_type": "code",
   "execution_count": null,
   "metadata": {},
   "outputs": [],
   "source": []
  },
  {
   "cell_type": "code",
   "execution_count": null,
   "metadata": {},
   "outputs": [],
   "source": []
  }
 ],
 "metadata": {
  "kernelspec": {
   "display_name": "Python 3",
   "language": "python",
   "name": "python3"
  },
  "language_info": {
   "codemirror_mode": {
    "name": "ipython",
    "version": 3
   },
   "file_extension": ".py",
   "mimetype": "text/x-python",
   "name": "python",
   "nbconvert_exporter": "python",
   "pygments_lexer": "ipython3",
   "version": "3.6.10"
  }
 },
 "nbformat": 4,
 "nbformat_minor": 4
}
